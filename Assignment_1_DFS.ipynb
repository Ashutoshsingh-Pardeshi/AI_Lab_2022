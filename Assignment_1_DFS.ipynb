{
  "nbformat": 4,
  "nbformat_minor": 0,
  "metadata": {
    "colab": {
      "provenance": [],
      "authorship_tag": "ABX9TyM1kcF/o3GEdSEv1z73spFf",
      "include_colab_link": true
    },
    "kernelspec": {
      "name": "python3",
      "display_name": "Python 3"
    },
    "language_info": {
      "name": "python"
    }
  },
  "cells": [
    {
      "cell_type": "markdown",
      "metadata": {
        "id": "view-in-github",
        "colab_type": "text"
      },
      "source": [
        "<a href=\"https://colab.research.google.com/github/Ashutoshsingh-Pardeshi/AI_Lab_2022/blob/main/Assignment_1_DFS.ipynb\" target=\"_parent\"><img src=\"https://colab.research.google.com/assets/colab-badge.svg\" alt=\"Open In Colab\"/></a>"
      ]
    },
    {
      "cell_type": "code",
      "execution_count": 1,
      "metadata": {
        "colab": {
          "base_uri": "https://localhost:8080/"
        },
        "id": "oIsMurv8KVLD",
        "outputId": "cc2a080e-3279-432e-e0f0-5d497879088d"
      },
      "outputs": [
        {
          "output_type": "stream",
          "name": "stdout",
          "text": [
            "Nodes visited before reaching goal  ['1', '4', '8', '7', '11', '10']\n"
          ]
        }
      ],
      "source": [
        "#The tree in a form of dictionary\n",
        "map = {\n",
        "  '1' : ['2','3', '4'],\n",
        "  '2' : ['5', '6'],\n",
        "  '3' : [],\n",
        "  '4' : ['7', '8'],\n",
        "  '5' : ['9'],\n",
        "  '6' : [],\n",
        "  '7' : ['10', '11'],\n",
        "  '8' : [],\n",
        "  '9' : [],\n",
        "  '10' : [],\n",
        "  '11' : []\n",
        "}\n",
        "\n",
        "s_state = '1'\n",
        "g_state = '10'\n",
        "visited = []\n",
        "# path = []\n",
        "# count = 0\n",
        "to_be_visited = []\n",
        "\n",
        "def dfs(map, visited, node, g_state):\n",
        "  # print(\"Node in question is \", node)\n",
        "  if node == g_state:\n",
        "    visited.append(node)\n",
        "    return node\n",
        "\n",
        "  if node not in visited:\n",
        "    visited.append(node)\n",
        "    # path.append(node)\n",
        "    # print(\"Path visited \", str(path))\n",
        "    for child in map[node]:\n",
        "      to_be_visited.append(child)\n",
        "    \n",
        "    # print(\"to_be_visited \", to_be_visited)\n",
        "    if to_be_visited != []:\n",
        "      ele = to_be_visited.pop()\n",
        "      # ele = to_be_visited.pop(0)\n",
        "      dfs(map, visited, ele , g_state)\n",
        "\n",
        "# print(\"Goal reached via path \", str(visited))\n",
        "\n",
        "# if(dfs(map, visited, s_state, g_state) == g_state):\n",
        "dfs(map, visited, s_state, g_state)\n",
        "print(\"Nodes visited before reaching goal \", str(visited))\n"
      ]
    },
    {
      "cell_type": "code",
      "source": [],
      "metadata": {
        "id": "Eeu-X7diKdCi"
      },
      "execution_count": null,
      "outputs": []
    }
  ]
}